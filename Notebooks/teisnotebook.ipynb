{
 "cells": [
  {
   "attachments": {},
   "cell_type": "markdown",
   "metadata": {},
   "source": [
    "## TEIS IFSP Teaming Data Question\n",
    "\n",
    "[The Tennessee Early Intervention System (TEIS)](https://www.tn.gov/didd/for-consumers/tennessee-early-intervention-system-teis.html) is a program that provides services to children ages birth up to age three who have disabilities or other developmental delays. In this project, you'll be looking into how teams that support children work together. \n",
    "\n",
    "You've been provided a spreadsheet containing data on children who received IFSP Teaming services. This spreadsheet is divided into two tabs.\n",
    "* Tab 1 contains log details of all children receiving IFSP Teaming services between January 1, 2022 and January 31, 2023. See the data dictionary for a description of each column.\n",
    "* Tab 2 contains a list of all children with IFSPs during the same timeframe. This includes a point of entry office, a referral date and an exit date.\n",
    "\n",
    "Analysis Questions:\n",
    "* How many children are receiving co-visits? What is the rate of co-visits? That is, out of children how have an IFSP, how many are receiving co-visits?\n",
    "* Children can have up to 6 co-visits per year. How many are recieving all 6 visits? Are there any who are exceeding 6 visits?\n",
    "* What is the cadence of co-visits?\n",
    "* In what setting do co-visits typically occur?\n",
    "* Who is performing co-visits? Are they generally performed by the same provider or discipline or by multiple providers or disciplines? Is it more likely for a co-visit to occur if vendor services are within th esame agency? \n",
    "* Does participation vary by service type? by point of entry?"
   ]
  },
  {
   "cell_type": "code",
   "execution_count": null,
   "metadata": {},
   "outputs": [
    {
     "name": "stderr",
     "output_type": "stream",
     "text": [
      "c:\\Users\\ahask\\anaconda3\\lib\\site-packages\\openpyxl\\worksheet\\_read_only.py:79: UserWarning: Unknown extension is not supported and will be removed\n",
      "  for idx, row in parser.parse():\n"
     ]
    }
   ],
   "source": [
    "import pandas as pd\n",
    "\n",
    "# Read both tabs from the XLSX file\n",
    "data_sheet1 = pd.read_excel('TEIS_IFSP_Teaming_Jan_2022-_Jan_2023.xlsx', sheet_name='Compiled_IFSP Teaming')\n",
    "data_sheet2 = pd.read_excel('TEIS_IFSP_Teaming_Jan_2022-_Jan_2023.xlsx', sheet_name='All Children with IFSPs')\n",
    "\n"
   ]
  },
  {
   "attachments": {},
   "cell_type": "markdown",
   "metadata": {},
   "source": [
    "* How many children are receiving co-visits? What is the rate of co-visits? That is, out of children how have an IFSP, how many are receiving co-visits?"
   ]
  },
  {
   "cell_type": "code",
   "execution_count": null,
   "metadata": {},
   "outputs": [
    {
     "name": "stdout",
     "output_type": "stream",
     "text": [
      "Number of children receiving co-visits: 0\n",
      "Rate of co-visits (%): 0.0\n"
     ]
    }
   ],
   "source": [
    "import pandas as pd\n",
    "\n",
    "# Read the \"Compiled_IFSP Teaming\" sheet from the XLSX file\n",
    "data_sheet1 = pd.read_excel('TEIS_IFSP_Teaming_Jan_2022-_Jan_2023.xlsx', sheet_name='Compiled_IFSP Teaming')\n",
    "\n",
    "# Filter the data to include only rows where co-visits are happening\n",
    "co_visits_data = data_sheet1[(data_sheet1['IFSP Teaming ID name'] == 'Co-Visits') & (data_sheet1['SERVICE DELIVERY'] == 'Service Delivered')]\n",
    "\n",
    "# Calculate the number of children receiving co-visits\n",
    "num_children_receiving_co_visits = len(co_visits_data)\n",
    "\n",
    "# Calculate the rate of co-visits\n",
    "num_children_with_ifsp = len(data_sheet1)\n",
    "rate_of_co_visits = num_children_receiving_co_visits / num_children_with_ifsp * 100\n",
    "\n",
    "# Print the results\n",
    "print(\"Number of children receiving co-visits:\", num_children_receiving_co_visits)\n",
    "print(\"Rate of co-visits (%):\", rate_of_co_visits)\n"
   ]
  }
 ],
 "metadata": {
  "kernelspec": {
   "display_name": "base",
   "language": "python",
   "name": "python3"
  },
  "language_info": {
   "codemirror_mode": {
    "name": "ipython",
    "version": 3
   },
   "file_extension": ".py",
   "mimetype": "text/x-python",
   "name": "python",
   "nbconvert_exporter": "python",
   "pygments_lexer": "ipython3",
   "version": "3.10.9"
  },
  "orig_nbformat": 4
 },
 "nbformat": 4,
 "nbformat_minor": 2
}
