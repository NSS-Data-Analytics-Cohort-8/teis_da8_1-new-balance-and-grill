{
 "cells": [
  {
   "attachments": {},
   "cell_type": "markdown",
   "metadata": {},
   "source": [
    "<h1>Exploratory Data Analysis</h1>"
   ]
  },
  {
   "cell_type": "code",
   "execution_count": 7,
   "metadata": {},
   "outputs": [],
   "source": [
    "import pandas as pd\n",
    "import warnings\n",
    "warnings.filterwarnings('ignore', category=UserWarning, module='openpyxl')"
   ]
  },
  {
   "cell_type": "code",
   "execution_count": 8,
   "metadata": {},
   "outputs": [],
   "source": [
    "data_xlsx_path = '../data/TEIS_IFSP_Teaming_Jan_2022-_Jan_2023.xlsx'\n",
    "ifsp_teaming_df = pd.read_excel(data_xlsx_path, sheet_name='Compiled_IFSP Teaming')\n",
    "all_children_ifsp_df = pd.read_excel(data_xlsx_path, sheet_name='All Children with IFSPs')"
   ]
  },
  {
   "attachments": {},
   "cell_type": "markdown",
   "metadata": {},
   "source": [
    "<h3>How many children are receiving co-visits? What is the rate of co-visits? That is, out of children who have an IFSP, how many are receiving co-visits?</h3>"
   ]
  },
  {
   "cell_type": "code",
   "execution_count": 29,
   "metadata": {},
   "outputs": [
    {
     "name": "stdout",
     "output_type": "stream",
     "text": [
      "Number of unique children with IFSPs: 19623\n",
      "Number of co-visits: 4091\n",
      "Number of unique children receiving co-visits: 1645\n",
      "The rate of unique children receiving co-visits: 0.0838 or 8.38%\n"
     ]
    }
   ],
   "source": [
    "# Getting the distinct number of children with IFSPs\n",
    "n_unique_children = all_children_ifsp_df['Child ID'].nunique()\n",
    "\n",
    "# Getting all of the covisit records\n",
    "covisit_df = ifsp_teaming_df[ifsp_teaming_df['IFSP Teaming ID name'] == 'Co-Visit']\n",
    "n_covisits = len(covisit_df)\n",
    "\n",
    "# Declaring a set to hold the unique children with covisit records\n",
    "unique_children_covisit = set()\n",
    "\n",
    "# Looping through the covisit records and adding the unique children to the set\n",
    "for index, row in covisit_df.iterrows():\n",
    "    unique_children_covisit.add(row['CHILD_ID'])\n",
    "\n",
    "n_unique_children_receiving_covisit = len(unique_children_covisit)\n",
    "\n",
    "rate_of_covisits = round(n_unique_children_receiving_covisit / n_unique_children, 4)\n",
    "\n",
    "print(f'Number of unique children receiving co-visits: {len(unique_children_covisit)}')\n",
    "print(f'The rate of unique children receiving co-visits: {rate_of_covisits} or {rate_of_covisits * 100}%')"
   ]
  }
 ],
 "metadata": {
  "kernelspec": {
   "display_name": "base",
   "language": "python",
   "name": "python3"
  },
  "language_info": {
   "codemirror_mode": {
    "name": "ipython",
    "version": 3
   },
   "file_extension": ".py",
   "mimetype": "text/x-python",
   "name": "python",
   "nbconvert_exporter": "python",
   "pygments_lexer": "ipython3",
   "version": "3.10.9"
  },
  "orig_nbformat": 4
 },
 "nbformat": 4,
 "nbformat_minor": 2
}
