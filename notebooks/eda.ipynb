{
 "cells": [
  {
   "attachments": {},
   "cell_type": "markdown",
   "metadata": {},
   "source": [
    "<h1>Exploratory Data Analysis</h1>"
   ]
  },
  {
   "cell_type": "code",
   "execution_count": 30,
   "metadata": {},
   "outputs": [],
   "source": [
    "import pandas as pd\n",
    "import datetime as dt\n",
    "import warnings\n",
    "warnings.filterwarnings('ignore', category=UserWarning, module='openpyxl')"
   ]
  },
  {
   "cell_type": "code",
   "execution_count": 8,
   "metadata": {},
   "outputs": [],
   "source": [
    "data_xlsx_path = '../data/TEIS_IFSP_Teaming_Jan_2022-_Jan_2023.xlsx'\n",
    "ifsp_teaming_df = pd.read_excel(data_xlsx_path, sheet_name='Compiled_IFSP Teaming')\n",
    "all_children_ifsp_df = pd.read_excel(data_xlsx_path, sheet_name='All Children with IFSPs')"
   ]
  },
  {
   "attachments": {},
   "cell_type": "markdown",
   "metadata": {},
   "source": [
    "<h3>1. How many children are receiving co-visits? What is the rate of co-visits? That is, out of children who have an IFSP, how many are receiving co-visits?</h3>"
   ]
  },
  {
   "cell_type": "code",
   "execution_count": 77,
   "metadata": {},
   "outputs": [
    {
     "name": "stdout",
     "output_type": "stream",
     "text": [
      "Number of unique children receiving co-visits: 1645\n",
      "The rate of unique children receiving co-visits: 0.0838 or 8.38%\n"
     ]
    }
   ],
   "source": [
    "# Getting the distinct number of children with IFSPs\n",
    "n_unique_children = all_children_ifsp_df['Child ID'].nunique()\n",
    "\n",
    "# Getting all of the covisit records\n",
    "covisit_df = ifsp_teaming_df[ifsp_teaming_df['IFSP Teaming ID name'] == 'Co-Visit']\n",
    "n_covisits = len(covisit_df)\n",
    "\n",
    "# Declaring a set to hold the unique children with covisit records\n",
    "unique_children_covisit = set()\n",
    "\n",
    "# Looping through the covisit records and adding the unique children to the set\n",
    "for index, row in covisit_df.iterrows():\n",
    "    unique_children_covisit.add(row['CHILD_ID'])\n",
    "\n",
    "n_unique_children_receiving_covisit = len(unique_children_covisit)\n",
    "\n",
    "rate_of_covisits = round(n_unique_children_receiving_covisit / n_unique_children, 4)\n",
    "\n",
    "print(f'Number of unique children receiving co-visits: {len(unique_children_covisit)}')\n",
    "print(f'The rate of unique children receiving co-visits: {rate_of_covisits} or {rate_of_covisits * 100}%')"
   ]
  },
  {
   "attachments": {},
   "cell_type": "markdown",
   "metadata": {},
   "source": [
    "<h3>2. Children can have up to 6 co-visits per year. How many are recieving all 6 visits? Are there any who are exceeding 6 visits? In what setting do co-visits typically occur?</h3>"
   ]
  },
  {
   "cell_type": "code",
   "execution_count": 76,
   "metadata": {},
   "outputs": [
    {
     "name": "stdout",
     "output_type": "stream",
     "text": [
      "Number of unique children: 19623\n",
      "Number of children receiving 6 visits per year: 121\n",
      "Number of children receiving more than 6 visits per year: 87\n",
      "The most common service setting is: home\n",
      "Number of children receiving no visits: 18062\n"
     ]
    }
   ],
   "source": [
    "n_children_receiving_6_visits_per_year = 0\n",
    "n_children_receiving_more_than_6_visits_per_year = 0\n",
    "children_covisit_insights = {}\n",
    "service_settings = {\n",
    "    'community_based': 0,\n",
    "    'error': 0,\n",
    "    'home': 0,\n",
    "    'other': 0,\n",
    "    'telehealth': 0\n",
    "}\n",
    "\n",
    "for index, row in covisit_df.iterrows():\n",
    "    # excluding any records where the date is in the month january 2022 in order to only use 1 year of data\n",
    "    year_month = row['SERVICE_DATE'].strftime('%Y-%m')\n",
    "    if year_month == '2022-01': continue\n",
    "\n",
    "    # Building the dictionary entry\n",
    "    child_id = row['CHILD_ID']\n",
    "    if child_id not in children_covisit_insights:\n",
    "        children_covisit_insights[child_id] = {\n",
    "            'n_visits': 1,\n",
    "            '6_or_more_visits': False,\n",
    "        }\n",
    "    else:\n",
    "        children_covisit_insights[child_id]['n_visits'] += 1\n",
    "\n",
    "        if children_covisit_insights[child_id]['n_visits'] == 6:\n",
    "            n_children_receiving_6_visits_per_year += 1\n",
    "        elif children_covisit_insights[child_id]['n_visits'] > 6:\n",
    "            # If a child is receiving more than 6 visits per year, we only want to count them once\n",
    "            if children_covisit_insights[child_id]['6_or_more_visits'] == False:\n",
    "                n_children_receiving_more_than_6_visits_per_year += 1\n",
    "                children_covisit_insights[child_id]['6_or_more_visits'] = True\n",
    "\n",
    "    # Incrementing the appropriate service setting\n",
    "    service_setting = str(row['SERVICE_SETTING']).lower()\n",
    "    if service_setting == 'community-based':\n",
    "        service_settings['community_based'] += 1\n",
    "    elif service_setting == 'home':\n",
    "        service_settings['home'] += 1\n",
    "    elif service_setting == 'other':\n",
    "        service_settings['other'] += 1\n",
    "    elif service_setting == 'telehealth':\n",
    "        service_settings['telehealth'] += 1\n",
    "    else:\n",
    "        service_settings['error'] += 1\n",
    "\n",
    "# How many children are receiving no visits\n",
    "n_children_receiving_no_visits = n_unique_children - len(children_covisit_insights)\n",
    "print(f'Number of unique children: {n_unique_children}')\n",
    "\n",
    "# \n",
    "\n",
    "# Insights\n",
    "print(f'Number of children receiving 6 visits per year: {n_children_receiving_6_visits_per_year}')\n",
    "print(f'Number of children receiving more than 6 visits per year: {n_children_receiving_more_than_6_visits_per_year}')\n",
    "print(f'The most common service setting is: {max(service_settings, key=service_settings.get)}')\n",
    "print(f'Number of children receiving no visits: {n_children_receiving_no_visits}')\n",
    "# print(children_covisit_insights)\n",
    "# print(service_settings)"
   ]
  },
  {
   "attachments": {},
   "cell_type": "markdown",
   "metadata": {},
   "source": [
    "<h3>3. Who is performing co-visits? Are they generally performed by the same provider or discipline or by multiple providers or disciplines? Is it more likely for a co-visit to occur if vendor services are within the same agency?</h3>"
   ]
  },
  {
   "cell_type": "code",
   "execution_count": 74,
   "metadata": {},
   "outputs": [
    {
     "name": "stdout",
     "output_type": "stream",
     "text": [
      "[('LeBonheur EI & Dev (LEAD) (vendor)', 902), ('LeBonheur EI & Dev (LEAD) (EIRA)', 340), ('Shelby Residential & Voc Svcs(SRVS) (EIRA)', 232), ('Therapy & Learning Center, Inc. (EIRA)', 216), (\"Kid's Putnam, Inc.\", 212), ('Physical Therapy Services, PA (EIRA)', 181), ('WAVES, Inc.', 169), (\"Siskin Children's Institute (EIRA)\", 149), ('Emory Valley Center', 138), ('Expanding Horizons - ETSU', 130), (\"Erlanger Health Care System/TC Thompson's Children\", 127), ('Michael Dunn Center/ The Henry Center', 112), ('Cleveland TN Hosp dba Tennova Healthcare-Cleveland', 111), ('Signal Centers, Inc.', 88), ('Rainbow Early Intervention (HATS)', 81), ('Middle Tennessee State University', 76), ('Sunshine Early Intervention - Knox Cty ARC', 66), ('Therapeutic Rehab Services - Cathy Otis', 57), ('LTVEC', 56), ('BEST (Blind-Visually Impaired Early Svcs Tn)', 44), ('Progressive Directions Inc.', 42), ('Therapy & Learning Center Inc (vendor WTCCD)', 41), ('Morristown Hamblen Child Care Center', 39), ('Community Development Center', 38), ('Rehab At Your Place (EIRA)', 37), ('Support Solutions of the Mid-South (CS Patterson)', 30), ('Infant Stimulation Program - UT Martin', 29), ('Heightened Potential Co', 28), ('Pediatric Language Clinic', 28), ('First Steps, Inc (EIRA)', 27), ('KF Pediatric Therapy', 27), ('Little Folks Arc of Washington Co.', 23), ('Developmental Svcs  of Dickson Cty - Foundations', 20), ('Project Memphis-University of Memphis (EIRA)', 20), ('Feltz Therapy Services, LLC', 17), ('Easter Seals Tennessee Inc', 14), ('Courageous Kids, LLC', 13), ('BRIDGES - Tennessee Tech University', 12), ('Fentress County School System', 12), ('Holly Hanna dba Pediatric Physical Therapy', 11), ('Mountain States Hlth Alli dba Indian Path Comm Hos', 9), ('Susan Gray School - Vanderbilt Univ', 8), ('James Developmental Ctr - Small Steps Preschool', 8), ('Play Ball Childrens Therapy, LLC', 6), ('LeBonheur East Outpatient Rehab', 5), ('Rehab At Your Place (vendor)', 5), ('Innovative Therapy Solutions, PLLC', 5), ('TheraKids, Inc.', 4), ('Results AST JV / Results Physiotherapy', 4), ('Can Do Kids Pediatric Therapy Services, LLC', 3), (\"Siskin Children's Institute (vendor svcs)\", 3), ('Chattanooga-United Seating & MobilityLLC/Numotion', 3), ('Vanderbilt Pediatric Rehabilitation', 3), ('Beth A. Ballinger', 3), ('Vanderbilt Bill Wilkerson Center', 2), ('Mini Miracles Pediatric Therapy, PLLC', 2), ('Health Sphere Wellness Center, LLC.', 2), ('Maury Regional Hospital dba Maury Regional Med Ctr', 2), ('LeBonheur Downtown Outpatient Rehab', 2), ('Blount Memorial Hospital', 1), ('Choice Medical Inc / Choice Orthotics Prosthetics', 1), ('Jeannine Couvertiere, SLP Services', 1), ('Words for Life Speech & Language Center, LLC', 1), ('Deborah Curlee Communication Consultants', 1), ('Jon Allen, OTR/L', 1), ('STAR Center, Inc.', 1), ('Stellar Therapy Services', 1), ('N. Scott Keaton, PT dba Little Heroes', 1), ('LIFT Therapy dba Sports Plus Dyersburg', 1), ('Methodist Medical Center', 1), ('LIFT Therapy dba Sports Plus Lexington', 1), (\"East Tennessee Children's Hospital Rehab Center\", 1), ('UT Hearing & Speech Center', 1), ('WeeCommunicate, LLC', 1), ('Trillium Speech, Language and Voice Svcs, LLC', 1), ('Therapy.Works LLC', 1)]\n"
     ]
    }
   ],
   "source": [
    "# Get all of the unique agency names from the covisit dataframe and store in a list\n",
    "unique_agency_names = covisit_df['Agency Name'].unique().tolist()\n",
    "\n",
    "# Use the above list to create keys in a dictionary\n",
    "agency_frequency_dict = {}\n",
    "for agency_name in unique_agency_names:\n",
    "    agency_frequency_dict[agency_name] = 0\n",
    "\n",
    "# Loop through the covisit dataframe and increment the appropriate agency name key\n",
    "for index, row in covisit_df.iterrows():\n",
    "    agency_name = row['Agency Name']\n",
    "    agency_frequency_dict[agency_name] += 1\n",
    "\n",
    "# Print the most frequent agency names to least frequent\n",
    "print(sorted(agency_frequency_dict.items(), key=lambda x: x[1], reverse=True))"
   ]
  },
  {
   "attachments": {},
   "cell_type": "markdown",
   "metadata": {},
   "source": [
    "<h3>4. Does participation vary by service type? by service setting? by point of entry?</h3>"
   ]
  },
  {
   "cell_type": "code",
   "execution_count": null,
   "metadata": {},
   "outputs": [],
   "source": []
  }
 ],
 "metadata": {
  "kernelspec": {
   "display_name": "base",
   "language": "python",
   "name": "python3"
  },
  "language_info": {
   "codemirror_mode": {
    "name": "ipython",
    "version": 3
   },
   "file_extension": ".py",
   "mimetype": "text/x-python",
   "name": "python",
   "nbconvert_exporter": "python",
   "pygments_lexer": "ipython3",
   "version": "3.10.9"
  },
  "orig_nbformat": 4
 },
 "nbformat": 4,
 "nbformat_minor": 2
}
