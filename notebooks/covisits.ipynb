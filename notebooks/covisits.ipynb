{
 "cells": [
  {
   "attachments": {},
   "cell_type": "markdown",
   "metadata": {},
   "source": [
    "<h1>Co-visit Insights</h1>"
   ]
  },
  {
   "cell_type": "code",
   "execution_count": 147,
   "metadata": {},
   "outputs": [],
   "source": [
    "import pandas as pd\n",
    "from datetime import datetime, timedelta\n",
    "import matplotlib.pyplot as plt\n",
    "import seaborn as sns\n",
    "import numpy as np\n",
    "import warnings\n",
    "warnings.filterwarnings('ignore', category=UserWarning, module='openpyxl')"
   ]
  },
  {
   "cell_type": "code",
   "execution_count": 148,
   "metadata": {},
   "outputs": [],
   "source": [
    "data_xlsx_path = '../data/TEIS_IFSP_Teaming_Jan_2022-_Jan_2023.xlsx'\n",
    "ifsp_teaming_df = pd.read_excel(data_xlsx_path, sheet_name='Compiled_IFSP Teaming')\n",
    "all_children_ifsp_df = pd.read_excel(data_xlsx_path, sheet_name='All Children with IFSPs')"
   ]
  },
  {
   "cell_type": "code",
   "execution_count": 149,
   "metadata": {},
   "outputs": [
    {
     "name": "stdout",
     "output_type": "stream",
     "text": [
      "Initial Number of total co-visits: 4091\n",
      "Number of total co-visits: 4087\n",
      "Number of unique children with IFSPs: 19623\n"
     ]
    }
   ],
   "source": [
    "# Getting the distinct number of children with IFSPs\n",
    "n_unique_children = all_children_ifsp_df['Child ID'].nunique()\n",
    "\n",
    "# Getting all of the covisit records\n",
    "covisit_df = ifsp_teaming_df[ifsp_teaming_df['IFSP Teaming ID name'] == 'Co-Visit']\n",
    "n_covisits = len(covisit_df)\n",
    "\n",
    "print(f'Initial Number of total co-visits: {n_covisits}')\n",
    "\n",
    "# Removing the duplicates\n",
    "covisit_df = covisit_df.drop_duplicates(subset=['CHILD_ID', 'SERVICE_DATE', 'Service Name'])\n",
    "n_covisits = len(covisit_df)\n",
    "\n",
    "print(f'Number of total co-visits: {n_covisits}')\n",
    "print(f'Number of unique children with IFSPs: {n_unique_children}')"
   ]
  },
  {
   "attachments": {},
   "cell_type": "markdown",
   "metadata": {},
   "source": [
    "<h3>1. Children can have up to 6 co-visits per year. How many are recieving all 6 visits? Are there any who are exceeding 6 visits? In what setting do co-visits typically occur?</h3>"
   ]
  },
  {
   "cell_type": "code",
   "execution_count": 150,
   "metadata": {},
   "outputs": [
    {
     "name": "stdout",
     "output_type": "stream",
     "text": [
      "The number of children receiving co-visits: 1504\n",
      "Number of children receiving 6 co-visits per year: 30\n",
      "Number of children receiving more than 6 co-visits per year: 86\n",
      "                 count  percentage\n",
      "community_based    869   21.262540\n",
      "error                3    0.073403\n",
      "home              1941   47.492048\n",
      "other              499   12.209445\n",
      "telehealth         775   18.962564\n"
     ]
    }
   ],
   "source": [
    "n_children_receiving_6_visits_per_year = 0\n",
    "n_children_receiving_more_than_6_visits_per_year = 0\n",
    "children_covisit_insights = {}\n",
    "service_settings = {\n",
    "    'community_based': 0,\n",
    "    'error': 0,\n",
    "    'home': 0,\n",
    "    'other': 0,\n",
    "    'telehealth': 0\n",
    "}\n",
    "\n",
    "for index, row in covisit_df.iterrows():\n",
    "    # excluding any records where the date is in the month january 2022 in order to only use 1 year of data\n",
    "    year_month = row['SERVICE_DATE'].strftime('%Y-%m')\n",
    "    if year_month == '2023-01': continue\n",
    "\n",
    "    # Building the dictionary entry\n",
    "    child_id = row['CHILD_ID']\n",
    "    if child_id not in children_covisit_insights:\n",
    "        children_covisit_insights[child_id] = {\n",
    "            'n_visits': 1\n",
    "        }\n",
    "    else:\n",
    "        children_covisit_insights[child_id]['n_visits'] += 1\n",
    "\n",
    "        if children_covisit_insights[child_id]['n_visits'] == 6:\n",
    "            n_children_receiving_6_visits_per_year += 1\n",
    "        elif children_covisit_insights[child_id]['n_visits'] == 7:\n",
    "            n_children_receiving_more_than_6_visits_per_year += 1\n",
    "            n_children_receiving_6_visits_per_year -= 1\n",
    "\n",
    "    # Incrementing the appropriate service setting\n",
    "    service_setting = str(row['SERVICE_SETTING']).lower()\n",
    "    if service_setting == 'community-based':\n",
    "        service_settings['community_based'] += 1\n",
    "    elif service_setting == 'home':\n",
    "        service_settings['home'] += 1\n",
    "    elif service_setting == 'other':\n",
    "        service_settings['other'] += 1\n",
    "    elif service_setting == 'telehealth':\n",
    "        service_settings['telehealth'] += 1\n",
    "    else:\n",
    "        service_settings['error'] += 1\n",
    "\n",
    "# Insights\n",
    "print(f'The number of children receiving co-visits: {len(children_covisit_insights)}')\n",
    "print(f'Number of children receiving 6 co-visits per year: {n_children_receiving_6_visits_per_year}')\n",
    "print(f'Number of children receiving more than 6 co-visits per year: {n_children_receiving_more_than_6_visits_per_year}')\n",
    "\n",
    "# Get the service setting from dataframes\n",
    "new_service_settings = {\n",
    "    'community_based': 0,\n",
    "    'error': 0,\n",
    "    'home': 0,\n",
    "    'other': 0,\n",
    "    'telehealth': 0\n",
    "}\n",
    "service_setting_df = covisit_df[['CHILD_ID', 'SERVICE_SETTING']]\n",
    "for index, row in service_setting_df.iterrows():\n",
    "    service_setting = str(row['SERVICE_SETTING']).lower()\n",
    "    if service_setting == 'community-based':\n",
    "        new_service_settings['community_based'] += 1\n",
    "    elif service_setting == 'home':\n",
    "        new_service_settings['home'] += 1\n",
    "    elif service_setting == 'other':\n",
    "        new_service_settings['other'] += 1\n",
    "    elif service_setting == 'telehealth':\n",
    "        new_service_settings['telehealth'] += 1\n",
    "    else:\n",
    "        new_service_settings['error'] += 1\n",
    "\n",
    "# Turn the dictionary into a dataframe\n",
    "new_service_settings_df = pd.DataFrame.from_dict(new_service_settings, orient='index', columns=['count'])\n",
    "\n",
    "# Add new column for percentage\n",
    "new_service_settings_df['percentage'] = new_service_settings_df['count'] / n_covisits * 100\n",
    "\n",
    "print(new_service_settings_df)"
   ]
  },
  {
   "cell_type": "code",
   "execution_count": 182,
   "metadata": {},
   "outputs": [
    {
     "name": "stdout",
     "output_type": "stream",
     "text": [
      "Initial Number of total co-visits: 4091\n",
      "Number of total co-visits: 4087\n",
      "Number of total co-visits in 2022: 3695\n",
      "The number children receiving co-visits: 1501\n",
      "Number of children receiving 6 co-visits per year: 30\n",
      "Number of children receiving more than 6 co-visits per year: 86\n"
     ]
    }
   ],
   "source": [
    "all_covists_df = ifsp_teaming_df[ifsp_teaming_df[\"IFSP Teaming ID name\"] == 'Co-Visit']\n",
    "successful_covists_df = all_covists_df[all_covists_df[\"SERVICE DELIVERY\"] == 'Service Delivered']\n",
    "successful_covists_in_2022_df = successful_covists_df[successful_covists_df['SERVICE_DATE'] < '2023-01-01']\n",
    "\n",
    "n_covisits_per_child = successful_covists_in_2022_df.groupby(['CHILD_ID']).size()\n",
    "n_covisits_per_child_desc = n_covisits_per_child.sort_values(ascending=False)\n",
    "\n",
    "n_children_receiving_more_than_6_covisits_per_year = len(n_covisits_per_child_desc.loc[lambda x : x > 6])\n",
    "\n",
    "n_children_receiving_6_covisits_per_year = len(n_covisits_per_child_desc.loc[lambda x : x == 6])\n",
    "children_receiving_6_covisits_per_year = n_covisits_per_child_desc.loc[lambda x : x == 6]\n",
    "\n",
    "settings_df = successful_covists_in_2022_df.groupby(['SERVICE_SETTING']).size()\n",
    "\n",
    "print(f'Initial Number of total co-visits: {len(all_covists_df)}')\n",
    "print(f'Number of total co-visits: {len(successful_covists_df)}')\n",
    "print(f'Number of total co-visits in 2022: {len(successful_covists_in_2022_df)}')\n",
    "print(f'The number children receiving co-visits: {len(n_covisits_per_child)}')\n",
    "print(f'Number of children receiving 6 co-visits per year: {n_children_receiving_6_covisits_per_year}')\n",
    "print(f'Number of children receiving more than 6 co-visits per year: {n_children_receiving_more_than_6_covisits_per_year}')"
   ]
  },
  {
   "cell_type": "code",
   "execution_count": 257,
   "metadata": {},
   "outputs": [
    {
     "name": "stdout",
     "output_type": "stream",
     "text": [
      "Total number of children: 4789\n",
      "   6_covisits  more_than_6_covisits  less_than_6_covisits\n",
      "0          30                    86                  1385\n"
     ]
    },
    {
     "data": {
      "image/png": "[encoded data removed]",
      "text/plain": [
       "<Figure size 640x480 with 1 Axes>"
      ]
     },
     "metadata": {},
     "output_type": "display_data"
    }
   ],
   "source": [
    "n_children_receiving_less_than_6_covisits_per_year = len(n_covisits_per_child_desc.loc[lambda x : x < 6])\n",
    "\n",
    "# create data\n",
    "size_of_groups = [\n",
    "    n_children_receiving_6_covisits_per_year,\n",
    "    n_children_receiving_more_than_6_covisits_per_year,\n",
    "    n_children_receiving_less_than_6_covisits_per_year\n",
    "]\n",
    "\n",
    "# Create a pieplot\n",
    "plt.pie(size_of_groups, labels = [\n",
    "    f'6 co-visits: {n_children_receiving_6_covisits_per_year}',\n",
    "    f'More than 6 co-visits: {n_children_receiving_more_than_6_covisits_per_year}',\n",
    "    f'Less than 6 co-visits: {n_children_receiving_less_than_6_covisits_per_year}'\n",
    "])\n",
    "\n",
    "# add a circle at the center to transform it in a donut chart\n",
    "my_circle=plt.Circle((0, 0), 0.7, color='white')\n",
    "\n",
    "# Make graph custom colors\n",
    "colors = [\"#069AF3\", \"#EF412A\", \"#415A8C\"]\n",
    "plt.rcParams['axes.prop_cycle'] = plt.cycler(color=colors)\n",
    "\n",
    "p=plt.gcf()\n",
    "p.gca().add_artist(my_circle)\n",
    "plt.show()"
   ]
  },
  {
   "attachments": {},
   "cell_type": "markdown",
   "metadata": {},
   "source": [
    "<h3>2. How many children received 0 co-visits?</h3>"
   ]
  },
  {
   "cell_type": "code",
   "execution_count": 152,
   "metadata": {},
   "outputs": [
    {
     "name": "stdout",
     "output_type": "stream",
     "text": [
      "Number of unique children: 19623\n",
      "Number of children receiving no visits: 18119 or 92.34%\n"
     ]
    }
   ],
   "source": [
    "# How many children are receiving no visits\n",
    "n_children_receiving_no_visits = n_unique_children - len(children_covisit_insights)\n",
    "\n",
    "percentage_of_children_receiving_no_visits = round((n_children_receiving_no_visits / n_unique_children) * 100, 2)\n",
    "\n",
    "print(f'Number of unique children: {n_unique_children}')\n",
    "print(f'Number of children receiving no visits: {n_children_receiving_no_visits} or {percentage_of_children_receiving_no_visits}%')"
   ]
  },
  {
   "attachments": {},
   "cell_type": "markdown",
   "metadata": {},
   "source": [
    "<h3>3. What is the average duration of a co-visit?</h3>"
   ]
  },
  {
   "cell_type": "code",
   "execution_count": 153,
   "metadata": {},
   "outputs": [
    {
     "name": "stdout",
     "output_type": "stream",
     "text": [
      "The average duration of a co-visit is: 0:58:26.333578\n"
     ]
    }
   ],
   "source": [
    "# Scrub dataframe to drop NaN values\n",
    "covisit_df = covisit_df.dropna(subset=['START_TIME', 'END_TIME'])\n",
    "\n",
    "# Getting the average duration of the co-visits\n",
    "covisit_durations = []\n",
    "for index, row in covisit_df.iterrows():\n",
    "    time1 = datetime.strptime(str(row['START_TIME']), \"%H:%M:%S\").time()\n",
    "    time2 = datetime.strptime(str(row['END_TIME']), \"%H:%M:%S\").time()\n",
    "\n",
    "    # Convert the time objects to datetime objects\n",
    "    datetime1 = datetime.combine(datetime.today(), time1)\n",
    "    datetime2 = datetime.combine(datetime.today(), time2)\n",
    "\n",
    "    time_diff = datetime2 - datetime1\n",
    "    covisit_durations.append(time_diff)\n",
    "\n",
    "total_delta = sum(covisit_durations, timedelta())\n",
    "average_delta = total_delta / len(covisit_durations)\n",
    "print(f'The average duration of a co-visit is: {average_delta}')"
   ]
  },
  {
   "attachments": {},
   "cell_type": "markdown",
   "metadata": {},
   "source": [
    "<h3>Plot out the distribution of the number of co-visits the children are receiving</h3>"
   ]
  },
  {
   "cell_type": "code",
   "execution_count": 179,
   "metadata": {},
   "outputs": [
    {
     "name": "stdout",
     "output_type": "stream",
     "text": [
      "      CHILD_ID  n_covisits\n",
      "0       457136           1\n",
      "1       458850           1\n",
      "2       458851           1\n",
      "3       459167           6\n",
      "4       459566           1\n",
      "...        ...         ...\n",
      "1496    536899           1\n",
      "1497    537104           1\n",
      "1498    537193           2\n",
      "1499    539820           2\n",
      "1500    540001           1\n",
      "\n",
      "[1501 rows x 2 columns]\n"
     ]
    },
    {
     "data": {
      "text/plain": [
       "[Text(0.5, 0, 'Number of Co-Visits'), Text(0, 0.5, 'Number of Children')]"
      ]
     },
     "execution_count": 179,
     "metadata": {},
     "output_type": "execute_result"
    },
    {
     "data": {
      "image/png": "[encoded data removed]",
      "text/plain": [
       "<Figure size 640x480 with 1 Axes>"
      ]
     },
     "metadata": {},
     "output_type": "display_data"
    }
   ],
   "source": [
    "# Formatting the dataframe to get the number of visits per child\n",
    "n_visits_per_child = successful_covists_in_2022_df.groupby(['CHILD_ID'])['CHILD_ID'].count().reset_index(name=\"n_covisits\")\n",
    "# n_visits_per_child_desc = n_visits_per_child.sort_values(ascending=False)\n",
    "print(n_visits_per_child)\n",
    "\n",
    "# Plotting the distribution of the number of visits\n",
    "colors = [\"#B1301F\", \"#EF412A\", \"#343434\", \"#777776\", \"#C7CAD5\", \"#7099E9\", \"#415A8C\", \"#161616\"]\n",
    "custom_graph_colors = [\"#7099E9\", \"#7099E9\", \"#7099E9\", \"#7099E9\", \"#7099E9\", \"#7099E9\", \"#EF412A\", \"#EF412A\", \"#EF412A\", \"#EF412A\", \"#EF412A\", \"#EF412A\", \"#EF412A\", \"#EF412A\", \"#EF412A\"]\n",
    "\n",
    "sns.set_theme()\n",
    "# ax = sns.countplot(x=\"n_visits\", data=pd.DataFrame(children_covisit_insights).T, palette=custom_graph_colors)\n",
    "ax = sns.countplot(x=\"n_covisits\", data=n_visits_per_child, palette=custom_graph_colors)\n",
    "\n",
    "# Use a barplot\n",
    "# ax = sns.barplot(x=\"n_visits\", y=\"count\", data=pd.DataFrame(children_covisit_insights).T, palette=custom_graph_colors)\n",
    "\n",
    "ax.set(xlabel='Number of Co-Visits', ylabel='Number of Children')\n",
    "# ax.set_xlim(-1, 13)"
   ]
  }
 ],
 "metadata": {
  "kernelspec": {
   "display_name": "base",
   "language": "python",
   "name": "python3"
  },
  "language_info": {
   "codemirror_mode": {
    "name": "ipython",
    "version": 3
   },
   "file_extension": ".py",
   "mimetype": "text/x-python",
   "name": "python",
   "nbconvert_exporter": "python",
   "pygments_lexer": "ipython3",
   "version": "3.10.9"
  },
  "orig_nbformat": 4
 },
 "nbformat": 4,
 "nbformat_minor": 2
}
